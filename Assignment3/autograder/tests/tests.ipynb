{
 "cells": [
  {
   "cell_type": "code",
   "execution_count": 1,
   "metadata": {},
   "outputs": [],
   "source": [
    "from submission import *\n",
    "import os"
   ]
  },
  {
   "cell_type": "code",
   "execution_count": 2,
   "metadata": {},
   "outputs": [],
   "source": [
    "os.remove(\"output.txt\")"
   ]
  },
  {
   "cell_type": "code",
   "execution_count": 3,
   "metadata": {},
   "outputs": [],
   "source": [
    "train_and_test(\"entrain\", \"endev\", \"endev\")"
   ]
  },
  {
   "cell_type": "code",
   "execution_count": 4,
   "metadata": {},
   "outputs": [
    {
     "name": "stdout",
     "output_type": "stream",
     "text": [
      "0.9729903536977492\n"
     ]
    }
   ],
   "source": [
    "predicted = \"output.txt\"\n",
    "gold = \"endev\"\n",
    "readline = lambda line: line.strip().split('/')\n",
    "words = []\n",
    "groundtruth_tags = []\n",
    "predicted_tags = []\n",
    "with open(gold,\"r\") as fgold, open(predicted,\"r\") as fpred:\n",
    "    for g, p in zip(fgold, fpred):\n",
    "        gw, gt = readline(g)\n",
    "        pw, pt = readline(p)\n",
    "        if gw == '###':\n",
    "            continue\n",
    "        words.append(gw)\n",
    "        predicted_tags.append(pt)\n",
    "        groundtruth_tags.append(gt)\n",
    "        #print(pt,gt)\n",
    "acc = float(sum([pt == gt for gt, pt in zip(groundtruth_tags, predicted_tags)]))/ len(predicted_tags)\n",
    "print(acc)"
   ]
  },
  {
   "cell_type": "code",
   "execution_count": 5,
   "metadata": {},
   "outputs": [
    {
     "data": {
      "text/plain": [
       "0.9729903536977492"
      ]
     },
     "execution_count": 5,
     "metadata": {},
     "output_type": "execute_result"
    }
   ],
   "source": [
    "0.9729903536977492"
   ]
  }
 ],
 "metadata": {
  "kernelspec": {
   "display_name": "2590-hw2",
   "language": "python",
   "name": "2590-hw2"
  },
  "language_info": {
   "codemirror_mode": {
    "name": "ipython",
    "version": 3
   },
   "file_extension": ".py",
   "mimetype": "text/x-python",
   "name": "python",
   "nbconvert_exporter": "python",
   "pygments_lexer": "ipython3",
   "version": "3.8.3"
  }
 },
 "nbformat": 4,
 "nbformat_minor": 4
}
