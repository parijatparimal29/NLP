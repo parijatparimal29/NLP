{
 "cells": [
  {
   "cell_type": "code",
   "execution_count": 2,
   "metadata": {},
   "outputs": [],
   "source": [
    "import math\n",
    "import collections\n",
    "import numpy as onp\n",
    "import itertools\n",
    "from mxnet import np, gluon"
   ]
  },
  {
   "cell_type": "code",
   "execution_count": 14,
   "metadata": {},
   "outputs": [
    {
     "name": "stdout",
     "output_type": "stream",
     "text": [
      "{'1/C': 14, '2/C': 4, '3/H': 14, '1/H': 2, '2/H': 4, '3/C': 2}\n",
      "{'C': 20, 'H': 20}\n",
      "['C', 'H', '$', '#']\n",
      "{'1/C': 0.7, '2/C': 0.2, '3/H': 0.7, '1/H': 0.1, '2/H': 0.2, '3/C': 0.1}\n",
      "{'$C': 0.375, 'CC': 0.7083333333333334, 'CH': 0.125, 'H#': 0.125, '$H': 0.375, 'HH': 0.7083333333333334, 'HC': 0.125, 'C#': 0.125, 'C$': 0.041666666666666664, 'H$': 0.041666666666666664, '$$': 0.125, '$#': 0.125, '#C': 0.25, '#H': 0.25, '#$': 0.25, '##': 0.25}\n"
     ]
    }
   ],
   "source": [
    "f = open(\"data/ictrain\", \"r\")\n",
    "ex = f.read()\n",
    "emission_score = dict(collections.Counter(ex.split()))\n",
    "emission_score.pop('###/###')\n",
    "ex_sent = ex.split('###/###')\n",
    "sentences = []\n",
    "for sent in ex_sent:\n",
    "    sentences.append(sent.split())\n",
    "transition_score = {}\n",
    "tag_dict = {}\n",
    "for x in emission_score:\n",
    "    if(x[2] in tag_dict):\n",
    "        tag_dict[x[2]] = tag_dict[x[2]] + emission_score[x]\n",
    "    else:\n",
    "        tag_dict[x[2]] = emission_score[x]\n",
    "print(emission_score)\n",
    "print(tag_dict)\n",
    "for x in emission_score:\n",
    "    emission_score[x] = emission_score[x]/tag_dict[x[2]]\n",
    "#print(tag_dict)\n",
    "vocabulary = []\n",
    "for key in tag_dict.keys():\n",
    "    k = key\n",
    "    vocabulary.append(k)\n",
    "vocabulary.append('$')\n",
    "vocabulary.append('#')\n",
    "print(vocabulary)\n",
    "print(emission_score)\n",
    "sentences.pop(len(sentences)-1)\n",
    "for sent in sentences:\n",
    "    sent.insert(0,'$/$')\n",
    "    sent.append('#/#')\n",
    "#print(sentences)\n",
    "transition_score = {}\n",
    "for i in range(0,len(sentences)):\n",
    "    for j in range(1, len(sentences[i])):\n",
    "        curr_tag = sentences[i][j-1][2]+sentences[i][j][2]\n",
    "        if(curr_tag in transition_score):\n",
    "            transition_score[curr_tag] = transition_score[curr_tag] + 1\n",
    "        else:\n",
    "            transition_score[curr_tag] = 1\n",
    "for i in vocabulary:\n",
    "    for j in vocabulary:\n",
    "        curr_tag = i+j\n",
    "        if(curr_tag in transition_score):\n",
    "            transition_score[curr_tag] = transition_score[curr_tag] + 1\n",
    "        else:\n",
    "            transition_score[curr_tag] = 1\n",
    "tag_tag = {}\n",
    "for x in transition_score:\n",
    "    if(x[0] in tag_tag):\n",
    "        tag_tag[x[0]] += transition_score[x]\n",
    "    else:\n",
    "        tag_tag[x[0]] = transition_score[x]\n",
    "for x in transition_score:\n",
    "    transition_score[x] /= tag_tag[x[0]]\n",
    "\n",
    "print(transition_score)"
   ]
  },
  {
   "cell_type": "code",
   "execution_count": 15,
   "metadata": {},
   "outputs": [
    {
     "name": "stdout",
     "output_type": "stream",
     "text": [
      "75.75757575757575\n"
     ]
    }
   ],
   "source": [
    "f = open(\"data/ictest\", \"r\")\n",
    "ex = f.read()\n",
    "#print(ex)\n",
    "ex = ex.split()\n",
    "ex.remove('###/###')\n",
    "#ex = sentences[0]\n",
    "#print(ex)\n",
    "result = np.zeros((len(ex)))\n",
    "for i in range(0,len(ex)):\n",
    "    z = ex[i][2]\n",
    "    result[i] = vocabulary.index(z)\n",
    "#print(result)\n",
    "pi = np.zeros((len(vocabulary),len(ex)+1))\n",
    "#print(pi.shape)\n",
    "#print(test)\n",
    "\"\"\"\n",
    "for i in range(0,len(vocabulary)):\n",
    "    combo = ex[0][0]+'/'+vocabulary[i]\n",
    "    pi[i,0] = emission_score[combo]\n",
    "for i in range(1,len(ex)):\n",
    "    for j in range(0,len(vocabulary)):\n",
    "        combo = ex[i][0]+'/'+vocabulary[j]\n",
    "        pi[j,i] = emission_score[combo]\n",
    "        max_score = 0\n",
    "        #print(combo)\n",
    "        for k in range(0,len(vocabulary)):\n",
    "            combo = vocabulary[k]+vocabulary[j]\n",
    "            max_score = max(transition_score[combo]*pi[k,i-1], max_score)\n",
    "            #print(combo)\n",
    "            #print(max_score)\n",
    "        pi[j,i] *= max_score\n",
    "        #print(pi[j,i])\n",
    "        #print()\n",
    "\"\"\"\n",
    "for i in range(0,len(vocabulary)):\n",
    "    combo = '$'+vocabulary[i]\n",
    "    pi[i,0] = transition_score[combo]\n",
    "for i in range(1,len(ex)+1):\n",
    "    for j in range(0,len(vocabulary)-2):\n",
    "        combo = ex[i-1][0]+'/'+vocabulary[j]\n",
    "        pi[j,i] = emission_score[combo]\n",
    "        max_score = 0\n",
    "        for k in range(0,len(vocabulary)):\n",
    "            combo = vocabulary[k]+vocabulary[j]\n",
    "            max_score = max(transition_score[combo]*pi[k,i-1], max_score)\n",
    "        pi[j,i] *= max_score\n",
    "    \n",
    "    \n",
    "    \n",
    "x = np.argmax(pi,0)\n",
    "#print(pi)\n",
    "error = 0\n",
    "for i in range(0,len(result)):\n",
    "    if(result[i] - x[i]!=0.):\n",
    "        error+=1\n",
    "#print(x)\n",
    "accuracy = (1 - (error/len(result)))*100\n",
    "print(accuracy)\n",
    "#for i in range(0,len(ex)):\n",
    "    #print(result[i],x[i],result[i] - x[i])\n"
   ]
  },
  {
   "cell_type": "code",
   "execution_count": null,
   "metadata": {},
   "outputs": [],
   "source": []
  }
 ],
 "metadata": {
  "kernelspec": {
   "display_name": "Python 3",
   "language": "python",
   "name": "python3"
  },
  "language_info": {
   "codemirror_mode": {
    "name": "ipython",
    "version": 3
   },
   "file_extension": ".py",
   "mimetype": "text/x-python",
   "name": "python",
   "nbconvert_exporter": "python",
   "pygments_lexer": "ipython3",
   "version": "3.8.5"
  }
 },
 "nbformat": 4,
 "nbformat_minor": 4
}
